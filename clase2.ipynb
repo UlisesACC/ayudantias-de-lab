{
 "cells": [
  {
   "cell_type": "code",
   "execution_count": 1,
   "metadata": {},
   "outputs": [
    {
     "name": "stdout",
     "output_type": "stream",
     "text": [
      "Chatbot: que paso mijo\n",
      "Chatbot: Hasta luego\n"
     ]
    }
   ],
   "source": [
    "from nltk.chat.util import Chat, reflections\n",
    "\n",
    "pairs = [\n",
    "    [\"Mi nombre es (.*)\", [\"Hola %1 como estas? \"]],\n",
    "    [\"(Hola|que honda|holi)\", [\"que paso mijo\"]],\n",
    "    [\"(.*)\", [\"No entendi lo que dijiste puedes repetirlo?\"]],\n",
    "    [\"(.*)(pumas|unam)\", [\"Arriba los pumas\"]]\n",
    "]\n",
    "\n",
    "chatbot = Chat(pairs, reflections)\n",
    "\n",
    "while True:\n",
    "    user_input = input(\"Tu: \")\n",
    "    if user_input.lower() in [\"salir\", \"adios\", \"chao\"]:\n",
    "        print(\"Chatbot: Hasta luego\")\n",
    "        break\n",
    "    response = chatbot.respond(user_input)\n",
    "    print(\"Chatbot:\", response)"
   ]
  },
  {
   "cell_type": "markdown",
   "metadata": {},
   "source": [
    "# Bot de telegram"
   ]
  },
  {
   "cell_type": "code",
   "execution_count": null,
   "metadata": {},
   "outputs": [
    {
     "ename": "SyntaxError",
     "evalue": "invalid syntax (3518667254.py, line 7)",
     "output_type": "error",
     "traceback": [
      "\u001b[1;36m  Cell \u001b[1;32mIn[2], line 7\u001b[1;36m\u001b[0m\n\u001b[1;33m    awaiit update.message.reply_text(\"hola soy el padrino\")\u001b[0m\n\u001b[1;37m           ^\u001b[0m\n\u001b[1;31mSyntaxError\u001b[0m\u001b[1;31m:\u001b[0m invalid syntax\n"
     ]
    }
   ],
   "source": [
    "from telegram import Update\n",
    "from telegram.ext import Application, CommandHandler, MessageHandler, Fiters, ContextTypes\n",
    "import nest_asyncio\n",
    "\n",
    "TOKEN=\"\"\n",
    "BOT_USERNAME=\"@the_godfather_bot\"\n",
    "#comandos de telegram\n",
    "async def start_command(update: Update,context: ContextTypes,DEFAULT_TYPE):\n",
    "    awaiit update.message.reply_text(\"hola soy el padrino\")\n",
    "\n",
    "async def help_command(update: Update,context: ContextTypes,DEFAULT_TYPE):\n",
    "    awaiit update.message.reply_text(\"este bot actua como tu jefe motherfu\")\n",
    "\n",
    "async def custom_command(update: Update,context: ContextTypes,DEFAULT_TYPE):\n",
    "    awaiit update.message.reply_text(\"este comando personalizado, o jefe\")\n",
    "#no biene de la api\n",
    "def handle_response(text:str)->str:\n",
    "    x=text.lower()\n",
    "    return chatbot.respond(x)\n",
    "async def handle_message(update: Update,context:contextTypes.DEFAULT_TYPE):\n",
    "    messafe_type: str =update.message.chat.type #se refiere si es un mensaje privado o de grupo\n",
    "    text: str=update.message.text #Obtiene el input del usuario\n",
    "    print(f\"Usuario((update.message.chat.id)) dijo: '\")\n"
   ]
  },
  {
   "cell_type": "markdown",
   "metadata": {},
   "source": [
    "/newbot\n",
    "Godfather\n",
    "username: @the_godfather_bot\n",
    "copiar token y ponerlo en el codigo"
   ]
  },
  {
   "cell_type": "markdown",
   "metadata": {},
   "source": [
    "/setdescription\n",
    "\n",
    "este actua como tu dios ooooooo\n",
    "/setabouttext\n",
    "este es un ejemplo de agente basado en objetivos\n",
    "/setuserpic\n",
    "designa la foto del bot"
   ]
  }
 ],
 "metadata": {
  "kernelspec": {
   "display_name": "Python 3",
   "language": "python",
   "name": "python3"
  },
  "language_info": {
   "codemirror_mode": {
    "name": "ipython",
    "version": 3
   },
   "file_extension": ".py",
   "mimetype": "text/x-python",
   "name": "python",
   "nbconvert_exporter": "python",
   "pygments_lexer": "ipython3",
   "version": "3.11.1"
  }
 },
 "nbformat": 4,
 "nbformat_minor": 2
}
