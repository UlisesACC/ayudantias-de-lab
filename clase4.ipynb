{
 "cells": [
  {
   "cell_type": "markdown",
   "metadata": {},
   "source": [
    "# Redes neuronales"
   ]
  },
  {
   "cell_type": "code",
   "execution_count": 7,
   "metadata": {},
   "outputs": [
    {
     "name": "stdout",
     "output_type": "stream",
     "text": [
      "Compilando en: cpu\n",
      "tensor(32.)\n",
      "tensor([ 5., 11.])\n"
     ]
    }
   ],
   "source": [
    "import torch\n",
    "\n",
    "# Verificar si hay una GPU disponible\n",
    "device = torch.device(\"cuda\" if torch.cuda.is_available() else \"cpu\")\n",
    "print(f\"Compilando en: {device}\")\n",
    "\n",
    "x = torch.tensor([1.0, 2.0, 3.0], device=device)\n",
    "y = torch.tensor([4.0, 5.0, 6.0], device=device)\n",
    "\n",
    "dot_product = torch.dot(x, y)\n",
    "print(dot_product)\n",
    "\n",
    "matrix = torch.tensor([[1.0, 2.0], [3.0, 4.0]], device=device)\n",
    "vector = torch.tensor([1.0, 2.0], device=device)\n",
    "\n",
    "result = torch.matmul(matrix, vector)\n",
    "print(result)"
   ]
  },
  {
   "cell_type": "markdown",
   "metadata": {},
   "source": [
    "# Perceptron"
   ]
  },
  {
   "cell_type": "code",
   "execution_count": null,
   "metadata": {},
   "outputs": [],
   "source": [
    "import torch\n",
    "import torch.nn as nn\n",
    "import torch.optim as optim\n",
    "\n",
    "class Perceptron(nn.Module):\n",
    "    def __init__(self):\n",
    "        super(Perceptron, self).__init__()\n",
    "        self.fc = nn.Linear(2, 1)\n",
    "        self.weights = nn.Parameter(torch.randn(2))\n",
    "        self.bias = nn.Parameter(torch.randn(1))\n",
    "    "
   ]
  }
 ],
 "metadata": {
  "kernelspec": {
   "display_name": "Python 3",
   "language": "python",
   "name": "python3"
  },
  "language_info": {
   "codemirror_mode": {
    "name": "ipython",
    "version": 3
   },
   "file_extension": ".py",
   "mimetype": "text/x-python",
   "name": "python",
   "nbconvert_exporter": "python",
   "pygments_lexer": "ipython3",
   "version": "3.11.1"
  }
 },
 "nbformat": 4,
 "nbformat_minor": 2
}
