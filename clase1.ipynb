{
 "cells": [
  {
   "cell_type": "code",
   "execution_count": 1,
   "metadata": {},
   "outputs": [
    {
     "name": "stdout",
     "output_type": "stream",
     "text": [
      "Chatbot: que paso mijo\n",
      "Chatbot: Hasta luego\n"
     ]
    }
   ],
   "source": [
    "from nltk.chat.util import Chat, reflections\n",
    "\n",
    "pairs = [\n",
    "    [\"Mi nombre es (.*)\", [\"Hola %1 como estas? \"]],\n",
    "    [\"(Hola|que honda|holi)\", [\"que paso mijo\"]],\n",
    "    [\"(.*)\", [\"No entendi lo que dijiste puedes repetirlo?\"]],\n",
    "    [\"(.*)(pumas|unam)\", [\"Arriba los pumas\"]]\n",
    "]\n",
    "\n",
    "chatbot = Chat(pairs, reflections)\n",
    "\n",
    "while True:\n",
    "    user_input = input(\"Tu: \")\n",
    "    if user_input.lower() in [\"salir\", \"adios\", \"chao\"]:\n",
    "        print(\"Chatbot: Hasta luego\")\n",
    "        break\n",
    "    response = chatbot.respond(user_input)\n",
    "    print(\"Chatbot:\", response)"
   ]
  }
 ],
 "metadata": {
  "kernelspec": {
   "display_name": "Python 3",
   "language": "python",
   "name": "python3"
  },
  "language_info": {
   "codemirror_mode": {
    "name": "ipython",
    "version": 3
   },
   "file_extension": ".py",
   "mimetype": "text/x-python",
   "name": "python",
   "nbconvert_exporter": "python",
   "pygments_lexer": "ipython3",
   "version": "3.11.1"
  }
 },
 "nbformat": 4,
 "nbformat_minor": 2
}
